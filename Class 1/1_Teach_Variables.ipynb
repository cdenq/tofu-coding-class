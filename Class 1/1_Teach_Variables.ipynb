{
 "cells": [
  {
   "cell_type": "markdown",
   "metadata": {},
   "source": [
    "# Cell Block Basics (.ipynb)"
   ]
  },
  {
   "cell_type": "markdown",
   "metadata": {},
   "source": [
    "This is a **markdown** cell"
   ]
  },
  {
   "cell_type": "code",
   "execution_count": 2,
   "metadata": {},
   "outputs": [],
   "source": [
    "# This is a CODE cell"
   ]
  },
  {
   "cell_type": "markdown",
   "metadata": {},
   "source": [
    "# Variable Types"
   ]
  },
  {
   "cell_type": "code",
   "execution_count": 3,
   "metadata": {},
   "outputs": [],
   "source": [
    "# In code, data is structured in different ways to tell your program what to do with something.\n",
    "# These structures are called \"data types\""
   ]
  },
  {
   "cell_type": "code",
   "execution_count": 4,
   "metadata": {},
   "outputs": [],
   "source": [
    "# Here are some data types + their type-casting:\n",
    "# Integer\n",
    "integer_variable = 10\n",
    "integer_variable = int(integer_variable)\n",
    "\n",
    "# Float\n",
    "float_variable = 10.5\n",
    "float_variable = float(float_variable)\n",
    "\n",
    "# Boolean\n",
    "boolean_variable_1 = True\n",
    "boolean_variable_2 = False\n",
    "boolean_variable_1 = bool(boolean_variable_1)\n",
    "# Booleans also have an integer result, true = 1; false = 0\n",
    "\n",
    "# String\n",
    "string_variable_1 = 'I am a string with single quotes'\n",
    "string_variable_1 = \"I am a string with double quotes\"\n",
    "string_variable_1 = str(string_variable_1)"
   ]
  },
  {
   "cell_type": "code",
   "execution_count": 14,
   "metadata": {},
   "outputs": [],
   "source": [
    "# more on casting\n",
    "integer_variable_as_string = str(integer_variable)\n",
    "print(integer_variable_as_string)\n",
    "\n",
    "float_variable_as_int = int(float_variable)\n",
    "print(float_variable_as_int)"
   ]
  },
  {
   "cell_type": "code",
   "execution_count": 7,
   "metadata": {},
   "outputs": [
    {
     "name": "stdout",
     "output_type": "stream",
     "text": [
      "hi\n",
      "5\n",
      "10\n",
      "Kemet is a \"partygame\".\n"
     ]
    }
   ],
   "source": [
    "# Why two methods for strings? Because sometimes you need to use both '' and \"\" in the same function.\n",
    "\n",
    "# print() function\n",
    "print('hi')\n",
    "print(5)\n",
    "print(integer_variable)\n",
    "print('Kemet is a \"partygame\".')"
   ]
  },
  {
   "cell_type": "code",
   "execution_count": null,
   "metadata": {},
   "outputs": [],
   "source": [
    "# f-string within print() function\n",
    "# print(f\"text text {variable} text text\")\n",
    "print(f\"My integer_variable has the value of {integer_variable}\")"
   ]
  },
  {
   "cell_type": "code",
   "execution_count": null,
   "metadata": {},
   "outputs": [],
   "source": [
    "# There are three more native Python data structures, but we'll cover these more indepth in the future:\n",
    "# List = [ ]\n",
    "# Tuple = ( )\n",
    "# Dictionary = { }"
   ]
  },
  {
   "cell_type": "code",
   "execution_count": 9,
   "metadata": {},
   "outputs": [],
   "source": [
    "# We can do general math functions within our variables, too!\n",
    "# List of functions\n",
    "# + add\n",
    "# - subtract\n",
    "# / divide\n",
    "# * multiply\n",
    "# ** exponent\n",
    "# // floor division\n",
    "\n",
    "a = 25\n",
    "b = 5\n",
    "add = a + b\n",
    "sub = a - b\n",
    "div = a / b\n",
    "mult = a * b\n",
    "exp = a ** b\n",
    "c = 4\n",
    "floor = a // c"
   ]
  },
  {
   "cell_type": "code",
   "execution_count": 10,
   "metadata": {},
   "outputs": [
    {
     "name": "stdout",
     "output_type": "stream",
     "text": [
      "a = 25, b = 5, c = 4\n",
      "30, 20...\n"
     ]
    }
   ],
   "source": [
    "print(f\"a = {a}, b = {b}, c = {c}\")\n",
    "print(f\"{add}, {sub}...\")"
   ]
  },
  {
   "cell_type": "code",
   "execution_count": 11,
   "metadata": {},
   "outputs": [],
   "source": [
    "string_multiline_var = '''\n",
    "hello\n",
    "im\n",
    "multined\n",
    "'''\n",
    "\n",
    "f_string_multiline_var = f'''\n",
    "add: {add}\n",
    "sub: {sub}\n",
    "div: {div}\n",
    "mult: {mult}\n",
    "exp: {exp}\n",
    "floor: {floor}\n",
    "'''"
   ]
  },
  {
   "cell_type": "code",
   "execution_count": 13,
   "metadata": {},
   "outputs": [
    {
     "name": "stdout",
     "output_type": "stream",
     "text": [
      "a = 25, b = 5, c = 4\n",
      "\n",
      "add: 30\n",
      "sub: 20\n",
      "div: 5.0\n",
      "mult: 125\n",
      "exp: 9765625\n",
      "floor: 6\n",
      "\n",
      "\n",
      "hello\n",
      "im\n",
      "multined\n",
      "\n"
     ]
    }
   ],
   "source": [
    "print(f\"a = {a}, b = {b}, c = {c}\")\n",
    "print(f\"{f_string_multiline_var}\")\n",
    "print(f\"{string_multiline_var}\")"
   ]
  },
  {
   "cell_type": "code",
   "execution_count": null,
   "metadata": {},
   "outputs": [],
   "source": [
    "# input() function\n",
    "# NOTE: inputs are always saved as strings!\n",
    "input_var = input(\"What is your input?\")\n",
    "print(input_var)"
   ]
  }
 ],
 "metadata": {
  "interpreter": {
   "hash": "ea2b65024e24df10fa5992686c1c8510a4831519011fa6b2d6f1788e8385f578"
  },
  "kernelspec": {
   "display_name": "Python 3.8.12 64-bit ('PythonData': conda)",
   "language": "python",
   "name": "python3"
  },
  "language_info": {
   "codemirror_mode": {
    "name": "ipython",
    "version": 3
   },
   "file_extension": ".py",
   "mimetype": "text/x-python",
   "name": "python",
   "nbconvert_exporter": "python",
   "pygments_lexer": "ipython3",
   "version": "3.8.12"
  },
  "orig_nbformat": 4
 },
 "nbformat": 4,
 "nbformat_minor": 2
}
