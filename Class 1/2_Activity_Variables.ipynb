{
 "cells": [
  {
   "cell_type": "code",
   "execution_count": null,
   "metadata": {},
   "outputs": [],
   "source": [
    "# Create a variable called 'name' that holds a string\n",
    "\n",
    "# Create a variable called 'class' that holds a custom DnD class\n",
    "\n",
    "# Create a variable called 'level' that holds an integer\n",
    "\n",
    "# Create a variable called 'power' that holds a float\n",
    "\n",
    "# Calculate an arbitrary 'powerlevel' by multiplying those two variables together\n",
    "\n",
    "# Create a variable called 'is_op' that holds a boolean value, decide whether your character is op or not\n"
   ]
  },
  {
   "cell_type": "code",
   "execution_count": null,
   "metadata": {},
   "outputs": [],
   "source": [
    "# print your character sheet with a mix of f-strings, hard coding, and multiline"
   ]
  },
  {
   "cell_type": "code",
   "execution_count": null,
   "metadata": {},
   "outputs": [],
   "source": [
    "# create an input line to take in a new level, and automatically calculate that new powerlevel!"
   ]
  }
 ],
 "metadata": {
  "language_info": {
   "name": "python"
  },
  "orig_nbformat": 4
 },
 "nbformat": 4,
 "nbformat_minor": 2
}
