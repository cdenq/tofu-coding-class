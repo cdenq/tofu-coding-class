{
 "cells": [
  {
   "cell_type": "markdown",
   "metadata": {},
   "source": [
    "# Notes on tools\n",
    "\n",
    "Windows - CommandPrompt -> Git-Bash\n",
    "\n",
    "Mac - UNIX - Temrinal\n",
    "\n",
    "Linux - UNIX"
   ]
  },
  {
   "cell_type": "markdown",
   "metadata": {},
   "source": [
    "Git-Bash\n",
    "\n",
    "Git - language\n",
    "Bash - terminal (shell)"
   ]
  },
  {
   "cell_type": "code",
   "execution_count": 2,
   "metadata": {},
   "outputs": [
    {
     "data": {
      "text/plain": [
       "'\\ncd \\t    change directory\\ncd ~ \\t(home/ root folder)\\ncd .. \\t(go up one level)\\nls \\t    list\\nmkdir \\tmake directory\\nrm \\t    remove file\\nrmdir \\tremove directory\\ntouch \\tmake file\\ncat \\tread file\\n\\nclear\\twipe history\\n^C\\t    cancel curretnt command line\\t\\n'"
      ]
     },
     "execution_count": 2,
     "metadata": {},
     "output_type": "execute_result"
    }
   ],
   "source": [
    "# Git Commands\n",
    "'''\n",
    "cd \t    change directory\n",
    "cd ~ \t(home/ root folder)\n",
    "cd .. \t(go up one level)\n",
    "ls \t    list\n",
    "mkdir \tmake directory\n",
    "rm \t    remove file\n",
    "rmdir \tremove directory\n",
    "touch \tmake file\n",
    "cat \tread file\n",
    "\n",
    "clear\twipe history\n",
    "^C\t    cancel curretnt command line\t\n",
    "'''"
   ]
  },
  {
   "cell_type": "code",
   "execution_count": 3,
   "metadata": {},
   "outputs": [
    {
     "data": {
      "text/plain": [
       "'\\ngit clone <SSH link>\\tclones online folder to your folder\\ngit add .\\t\\t        tags changed files to be uploaded\\ngit commit -m \"message\" stages those files + adds a message\\ngit push\\t\\t        uploads those files\\n'"
      ]
     },
     "execution_count": 3,
     "metadata": {},
     "output_type": "execute_result"
    }
   ],
   "source": [
    "# GitHub Commands\n",
    "'''\n",
    "git clone <SSH link>\tclones online folder to your folder\n",
    "git add .\t\t        tags changed files to be uploaded\n",
    "git commit -m \"message\" stages those files + adds a message\n",
    "git push\t\t        uploads those files\n",
    "'''"
   ]
  },
  {
   "cell_type": "markdown",
   "metadata": {},
   "source": [
    "# Visual Studio Code (VSC)\n",
    "\n",
    "extensions to download:\n",
    "- Jupyter Notebook\n",
    "- Python\n",
    "\n",
    "VSC is an IDE - integrated develpoment environment.\n",
    "\n",
    "Wind: CTRL SHIFT P -> command palette\n",
    "\n",
    "Mac: COMMAND SHIFT P -> command palette\n",
    "\n",
    "----\n",
    "Anaconda (Interpreter: PythonData)\n",
    "virtual environments\n",
    "- Python\n",
    "- java"
   ]
  }
 ],
 "metadata": {
  "interpreter": {
   "hash": "ea2b65024e24df10fa5992686c1c8510a4831519011fa6b2d6f1788e8385f578"
  },
  "kernelspec": {
   "display_name": "Python 3.8.12 64-bit ('PythonData': conda)",
   "language": "python",
   "name": "python3"
  },
  "language_info": {
   "codemirror_mode": {
    "name": "ipython",
    "version": 3
   },
   "file_extension": ".py",
   "mimetype": "text/x-python",
   "name": "python",
   "nbconvert_exporter": "python",
   "pygments_lexer": "ipython3",
   "version": "3.8.12"
  },
  "orig_nbformat": 4
 },
 "nbformat": 4,
 "nbformat_minor": 2
}
